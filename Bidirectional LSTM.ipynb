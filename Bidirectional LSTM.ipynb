{
 "cells": [
  {
   "cell_type": "code",
   "execution_count": 1,
   "metadata": {},
   "outputs": [
    {
     "name": "stderr",
     "output_type": "stream",
     "text": [
      "Using TensorFlow backend.\n"
     ]
    }
   ],
   "source": [
    "import sys, os, re, csv, codecs, numpy as np, pandas as pd\n",
    "\n",
    "from keras.preprocessing.text import Tokenizer\n",
    "from keras.preprocessing.sequence import pad_sequences\n",
    "from keras.layers import Dense, Input, LSTM, Embedding, Dropout, Activation\n",
    "from keras.layers import Bidirectional, GlobalMaxPool1D\n",
    "from keras.models import Model\n",
    "from keras import initializers, regularizers, constraints, optimizers, layers"
   ]
  },
  {
   "cell_type": "code",
   "execution_count": 2,
   "metadata": {
    "collapsed": true
   },
   "outputs": [],
   "source": [
    "embed_size = 50 # how big is each word vector\n",
    "max_features = 20000 # how many unique words to use (i.e num rows in embedding vector)\n",
    "maxlen = 100 # max number of words in a comment to use"
   ]
  },
  {
   "cell_type": "code",
   "execution_count": 3,
   "metadata": {
    "collapsed": true
   },
   "outputs": [],
   "source": [
    "train = pd.read_csv(\"train1.csv\")\n",
    "test = pd.read_csv(\"test.csv\")"
   ]
  },
  {
   "cell_type": "code",
   "execution_count": 4,
   "metadata": {
    "collapsed": true
   },
   "outputs": [],
   "source": [
    "path='C:\\\\Users\\\\Manjunath Purma\\\\Downloads\\\\text mining\\\\cute 04\\\\'\n",
    "EMBEDDING_FILE=f'{path}glove6b50d\\\\glove.6B.50d.txt'\n"
   ]
  },
  {
   "cell_type": "code",
   "execution_count": 5,
   "metadata": {
    "collapsed": true
   },
   "outputs": [],
   "source": [
    "list_sentences_train = train[\"converse\"].fillna(\"_na_\").values\n",
    "list_classes = [\"APPOINTMENTS \",\"ASK_A_DOCTOR\", \"JUNK\", \"LAB\", \"MISCELLANEOUS\", \"PRESCRIPTION\"]\n",
    "y = train[list_classes].values\n",
    "list_sentences_test = test[\"converse\"].fillna(\"_na_\").values"
   ]
  },
  {
   "cell_type": "code",
   "execution_count": 6,
   "metadata": {
    "collapsed": true
   },
   "outputs": [],
   "source": [
    "tokenizer = Tokenizer(num_words=max_features)\n",
    "tokenizer.fit_on_texts(list(list_sentences_train))\n",
    "list_tokenized_train = tokenizer.texts_to_sequences(list_sentences_train)\n",
    "list_tokenized_test = tokenizer.texts_to_sequences(list_sentences_test)\n",
    "X_t = pad_sequences(list_tokenized_train, maxlen=maxlen)\n",
    "X_te = pad_sequences(list_tokenized_test, maxlen=maxlen)"
   ]
  },
  {
   "cell_type": "code",
   "execution_count": 7,
   "metadata": {
    "collapsed": true
   },
   "outputs": [],
   "source": [
    "def get_coefs(word,*arr): return word, np.asarray(arr, dtype='float32')\n",
    "embeddings_index = dict(get_coefs(*o.strip().split()) for o in open(EMBEDDING_FILE,encoding='utf-8'))"
   ]
  },
  {
   "cell_type": "code",
   "execution_count": 8,
   "metadata": {},
   "outputs": [
    {
     "data": {
      "text/plain": [
       "(0.020940498, 0.6441043)"
      ]
     },
     "execution_count": 8,
     "metadata": {},
     "output_type": "execute_result"
    }
   ],
   "source": [
    "all_embs = np.stack(embeddings_index.values())\n",
    "emb_mean,emb_std = all_embs.mean(), all_embs.std()\n",
    "emb_mean,emb_std"
   ]
  },
  {
   "cell_type": "code",
   "execution_count": 9,
   "metadata": {
    "collapsed": true
   },
   "outputs": [],
   "source": [
    "word_index = tokenizer.word_index\n",
    "nb_words = min(max_features, len(word_index))\n",
    "embedding_matrix = np.random.normal(emb_mean, emb_std, (nb_words, embed_size))\n",
    "for word, i in word_index.items():\n",
    "    if i >= max_features: continue\n",
    "    embedding_vector = embeddings_index.get(word)\n",
    "    if embedding_vector is not None: embedding_matrix[i] = embedding_vector"
   ]
  },
  {
   "cell_type": "code",
   "execution_count": 10,
   "metadata": {
    "collapsed": true
   },
   "outputs": [],
   "source": [
    "inp = Input(shape=(maxlen,))\n",
    "x = Embedding(max_features, embed_size, weights=[embedding_matrix])(inp)\n",
    "x = Bidirectional(LSTM(50, return_sequences=True, dropout=0.1, recurrent_dropout=0.1))(x)\n",
    "x = GlobalMaxPool1D()(x)\n",
    "x = Dense(50, activation=\"relu\")(x)\n",
    "x = Dropout(0.1)(x)\n",
    "x = Dense(6, activation=\"sigmoid\")(x)\n",
    "model = Model(inputs=inp, outputs=x)\n",
    "model.compile(loss='binary_crossentropy', optimizer='adam', metrics=['accuracy'])"
   ]
  },
  {
   "cell_type": "code",
   "execution_count": 11,
   "metadata": {},
   "outputs": [
    {
     "name": "stdout",
     "output_type": "stream",
     "text": [
      "Train on 41241 samples, validate on 4583 samples\n",
      "Epoch 1/10\n",
      "41241/41241 [==============================] - 472s - loss: 0.2347 - acc: 0.9028 - val_loss: 0.1818 - val_acc: 0.9224\n",
      "Epoch 2/10\n",
      "41241/41241 [==============================] - 440s - loss: 0.1752 - acc: 0.9279 - val_loss: 0.1733 - val_acc: 0.9278\n",
      "Epoch 3/10\n",
      "41241/41241 [==============================] - 428s - loss: 0.1613 - acc: 0.9342 - val_loss: 0.1678 - val_acc: 0.9296\n",
      "Epoch 4/10\n",
      "41241/41241 [==============================] - 431s - loss: 0.1510 - acc: 0.9384 - val_loss: 0.1668 - val_acc: 0.9288\n",
      "Epoch 5/10\n",
      "41241/41241 [==============================] - 438s - loss: 0.1425 - acc: 0.9426 - val_loss: 0.1709 - val_acc: 0.9294\n",
      "Epoch 6/10\n",
      "41241/41241 [==============================] - 438s - loss: 0.1342 - acc: 0.9469 - val_loss: 0.1704 - val_acc: 0.9292\n",
      "Epoch 7/10\n",
      "41241/41241 [==============================] - 437s - loss: 0.1257 - acc: 0.9506 - val_loss: 0.1778 - val_acc: 0.9249\n",
      "Epoch 8/10\n",
      "41241/41241 [==============================] - 438s - loss: 0.1172 - acc: 0.9545 - val_loss: 0.1846 - val_acc: 0.9271\n",
      "Epoch 9/10\n",
      "41241/41241 [==============================] - 438s - loss: 0.1086 - acc: 0.9580 - val_loss: 0.1914 - val_acc: 0.9254\n",
      "Epoch 10/10\n",
      "41241/41241 [==============================] - 443s - loss: 0.0998 - acc: 0.9620 - val_loss: 0.1988 - val_acc: 0.9246\n"
     ]
    }
   ],
   "source": [
    "model.fit(X_t, y, batch_size=32, epochs=10, validation_split=0.1);"
   ]
  },
  {
   "cell_type": "code",
   "execution_count": 12,
   "metadata": {},
   "outputs": [
    {
     "name": "stdout",
     "output_type": "stream",
     "text": [
      "11456/11456 [==============================] - 29s    \n"
     ]
    }
   ],
   "source": [
    "y_test = model.predict([X_te], batch_size=1024, verbose=1)"
   ]
  },
  {
   "cell_type": "code",
   "execution_count": 13,
   "metadata": {
    "scrolled": true
   },
   "outputs": [
    {
     "data": {
      "text/plain": [
       "array([[  1.18897983e-03,   9.04069399e-04,   4.04458442e-05,\n",
       "          1.86832607e-04,   9.94617760e-01,   3.59877769e-04],\n",
       "       [  3.31805527e-01,   6.80973008e-03,   3.63130937e-04,\n",
       "          2.85223272e-04,   6.40478075e-01,   1.83756314e-02],\n",
       "       [  6.56342553e-03,   1.97325628e-02,   1.90916609e-07,\n",
       "          1.35611452e-03,   1.14390045e-01,   8.83680522e-01],\n",
       "       ..., \n",
       "       [  8.09499715e-03,   8.12515058e-03,   2.25259282e-04,\n",
       "          4.15296759e-04,   9.82283056e-01,   3.04060261e-04],\n",
       "       [  9.83239353e-01,   6.77874731e-03,   3.37692218e-05,\n",
       "          5.08715282e-04,   3.89011367e-03,   1.92561012e-04],\n",
       "       [  3.37180332e-03,   9.24005926e-01,   2.28237274e-09,\n",
       "          9.25716886e-04,   3.43167270e-03,   6.42103329e-02]], dtype=float32)"
      ]
     },
     "execution_count": 13,
     "metadata": {},
     "output_type": "execute_result"
    }
   ],
   "source": [
    "#y_pred_class = model.predict_classes(X_te)\n",
    "y_test"
   ]
  },
  {
   "cell_type": "code",
   "execution_count": 14,
   "metadata": {
    "collapsed": true
   },
   "outputs": [],
   "source": [
    "y_pred_class=np.argmax(y_test,axis=1)\n",
    "\n"
   ]
  },
  {
   "cell_type": "code",
   "execution_count": 15,
   "metadata": {},
   "outputs": [
    {
     "data": {
      "text/plain": [
       "array([4, 4, 5, ..., 4, 0, 1], dtype=int64)"
      ]
     },
     "execution_count": 15,
     "metadata": {},
     "output_type": "execute_result"
    }
   ],
   "source": [
    "y_pred_class"
   ]
  },
  {
   "cell_type": "code",
   "execution_count": 16,
   "metadata": {
    "collapsed": true
   },
   "outputs": [],
   "source": [
    "np.savetxt(\"foo3.csv\", y_pred_class, delimiter=\",\")"
   ]
  }
 ],
 "metadata": {
  "kernelspec": {
   "display_name": "Python 3",
   "language": "python",
   "name": "python3"
  },
  "language_info": {
   "codemirror_mode": {
    "name": "ipython",
    "version": 3
   },
   "file_extension": ".py",
   "mimetype": "text/x-python",
   "name": "python",
   "nbconvert_exporter": "python",
   "pygments_lexer": "ipython3",
   "version": "3.6.3"
  }
 },
 "nbformat": 4,
 "nbformat_minor": 2
}
